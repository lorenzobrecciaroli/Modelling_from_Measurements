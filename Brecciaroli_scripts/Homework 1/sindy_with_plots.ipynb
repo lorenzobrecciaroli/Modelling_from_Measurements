{
  "metadata": {
    "language_info": {
      "codemirror_mode": {
        "name": "python",
        "version": 3
      },
      "file_extension": ".py",
      "mimetype": "text/x-python",
      "name": "python",
      "nbconvert_exporter": "python",
      "pygments_lexer": "ipython3",
      "version": "3.8"
    },
    "kernelspec": {
      "name": "python",
      "display_name": "Python (Pyodide)",
      "language": "python"
    }
  },
  "nbformat_minor": 4,
  "nbformat": 4,
  "cells": [
    {
      "cell_type": "code",
      "source": "import matplotlib.pyplot as plt\nfrom mpl_toolkits.mplot3d import Axes3D\nimport numpy as np\nfrom scipy.integrate import solve_ivp\nfrom sklearn.metrics import mean_squared_error\nfrom pysindy.utils.odes import lorenz\n\n# Ignore integration and solver convergence warnings\nimport warnings\nfrom scipy.integrate.odepack import ODEintWarning\nwarnings.simplefilter(\"ignore\", category=UserWarning)\nwarnings.simplefilter(\"ignore\", category=ODEintWarning)\n\nimport pysindy as ps",
      "metadata": {},
      "execution_count": null,
      "outputs": []
    },
    {
      "cell_type": "code",
      "source": "x1 = [20,20,52,83,64,68,83,12,36,150,110,60,7,10,70,100,92,70,10,11,137,137,18,22,52,83,18,10,9,65]\nx2 = [32,50,12,10,13,36,15,12,6,6,65,70,40,9,20,34,45,40,15,15,60,80,26,18,37,50,35,12,12,25]\ndt = 1\nt = np.arange(0, 29, dt)\nX = np.c_[x1, x2]\n\nplt.figure()\nplt.plot(X)",
      "metadata": {},
      "execution_count": null,
      "outputs": []
    },
    {
      "cell_type": "code",
      "source": "# Run SINDy\nalpha = 100\nthreshold = 0.003\nensemble_optimizer = ps.STLSQ(threshold = threshold,alpha=alpha)\nfeature_names = ['x', 'y']\nfeature_library=ps.PolynomialLibrary(degree=3,library_ensemble=True, include_bias=False)\n#functions = [lambda x : x, lambda x,y : x*y]\n#feature_library = ps.CustomLibrary(library_functions=functions)\nmodel = ps.SINDy(feature_names=feature_names,optimizer=ensemble_optimizer,feature_library=feature_library)\nmodel.fit(X,t=dt,ensemble=True,n_models=500,n_subset=25,quiet=True,n_candidates_to_drop=0)\nmodel.print()\n\nt_horizon = 29\nt_start = 0\nx_sim = model.simulate(X[t_start,:],t[0:t_horizon])\n\n# Visualization\nfig, axs = plt.subplots(2)\nfig.suptitle('SINDy model reconstruction')\naxs[0].legend(['Lynxes','Hares'])\naxs[0].set_title('Data')\naxs[0].plot(X)\naxs[0].grid()\n\naxs[1].set_title('SINDy model')\naxs[1].plot(t[t_start:t_horizon],x_sim)\n#axs[1].ylim([0,140])\naxs[1].grid()\n\nplt.figure()\nplt.plot(X)\nplt.ylim([0,140])\n\nprint(X)\n\n#Simulate 1-step prediction\nfor i in np.arange(1,29):\n    x_sim = model.simulate(X[i,:],t[0:3])\n    print(x_sim[1,:])\n    plt.scatter(i+1,x_sim[1,0],c =\"blue\")\n    plt.scatter(i+1,x_sim[1,1],c = \"orange\") ",
      "metadata": {},
      "execution_count": null,
      "outputs": []
    }
  ]
}